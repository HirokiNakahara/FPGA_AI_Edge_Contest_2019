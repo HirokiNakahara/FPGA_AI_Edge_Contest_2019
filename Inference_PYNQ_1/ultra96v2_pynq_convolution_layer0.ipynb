{
 "cells": [
  {
   "cell_type": "markdown",
   "metadata": {},
   "source": [
    "## Convolutional Operation Demo<br>PYNQ on Ultra96v2 board  \n",
    "\n",
    "H. Nakahara (Tokyo Tech.) 19th/Mar./2020  \n",
    "Copyright all rights reserved."
   ]
  },
  {
   "cell_type": "markdown",
   "metadata": {},
   "source": [
    "### Setup\n",
    "load bitstream file"
   ]
  },
  {
   "cell_type": "code",
   "execution_count": 1,
   "metadata": {},
   "outputs": [
    {
     "data": {
      "application/javascript": [
       "\n",
       "require(['notebook/js/codecell'], function(codecell) {\n",
       "  codecell.CodeCell.options_default.highlight_modes[\n",
       "      'magic_text/x-csrc'] = {'reg':[/^%%microblaze/]};\n",
       "  Jupyter.notebook.events.one('kernel_ready.Kernel', function(){\n",
       "      Jupyter.notebook.get_cells().map(function(cell){\n",
       "          if (cell.cell_type == 'code'){ cell.auto_highlight(); } }) ;\n",
       "  });\n",
       "});\n"
      ]
     },
     "metadata": {},
     "output_type": "display_data"
    },
    {
     "data": {
      "text/plain": [
       "['__class__',\n",
       " '__delattr__',\n",
       " '__dict__',\n",
       " '__dir__',\n",
       " '__doc__',\n",
       " '__eq__',\n",
       " '__format__',\n",
       " '__ge__',\n",
       " '__getattr__',\n",
       " '__getattribute__',\n",
       " '__gt__',\n",
       " '__hash__',\n",
       " '__init__',\n",
       " '__init_subclass__',\n",
       " '__le__',\n",
       " '__lt__',\n",
       " '__module__',\n",
       " '__ne__',\n",
       " '__new__',\n",
       " '__reduce__',\n",
       " '__reduce_ex__',\n",
       " '__repr__',\n",
       " '__setattr__',\n",
       " '__sizeof__',\n",
       " '__str__',\n",
       " '__subclasshook__',\n",
       " '__weakref__',\n",
       " '_deepcopy_dict_from',\n",
       " '_ip_map',\n",
       " 'axi_dma_0',\n",
       " 'binfile_name',\n",
       " 'bit_data',\n",
       " 'bitfile_name',\n",
       " 'clock_dict',\n",
       " 'device',\n",
       " 'download',\n",
       " 'dtbo',\n",
       " 'firmware_path',\n",
       " 'gpio_dict',\n",
       " 'hierarchy_dict',\n",
       " 'ignore_version',\n",
       " 'insert_dtbo',\n",
       " 'interrupt_controllers',\n",
       " 'interrupt_pins',\n",
       " 'ip_dict',\n",
       " 'is_loaded',\n",
       " 'kernel_0',\n",
       " 'load_ip_data',\n",
       " 'mem_dict',\n",
       " 'parser',\n",
       " 'partial',\n",
       " 'pr_dict',\n",
       " 'pr_download',\n",
       " 'remove_dtbo',\n",
       " 'reset',\n",
       " 'timestamp',\n",
       " 'zynq_ultra_ps_e_0']"
      ]
     },
     "execution_count": 1,
     "metadata": {},
     "output_type": "execute_result"
    }
   ],
   "source": [
    "from pynq import Overlay\n",
    "import pynq\n",
    "\n",
    "overlay = Overlay('/home/xilinx/pynq/overlays/base/pynq_ultra96_conv_l0_r1.bit')\n",
    "dir(overlay)"
   ]
  },
  {
   "cell_type": "code",
   "execution_count": 2,
   "metadata": {},
   "outputs": [
    {
     "name": "stdout",
     "output_type": "stream",
     "text": [
      "RegisterMap {\n",
      "  CTRL = Register(AP_START=0, AP_DONE=0, AP_IDLE=1, AP_READY=0, RESERVED_1=0, AUTO_RESTART=0, RESERVED_2=0),\n",
      "  GIER = Register(Enable=0, RESERVED=0),\n",
      "  IP_IER = Register(CHAN0_INT_EN=0, CHAN1_INT_EN=0, RESERVED=0),\n",
      "  IP_ISR = Register(CHAN0_INT_ST=0, CHAN1_INT_ST=0, RESERVED=0)\n",
      "}\n"
     ]
    }
   ],
   "source": [
    "registers = overlay.kernel_0.register_map\n",
    "print(registers)"
   ]
  },
  {
   "cell_type": "markdown",
   "metadata": {},
   "source": [
    "load testbench file"
   ]
  },
  {
   "cell_type": "code",
   "execution_count": 3,
   "metadata": {},
   "outputs": [],
   "source": [
    "import numpy as np\n",
    "\n",
    "inimg = np.loadtxt('/home/xilinx/data/testbench_input.txt')"
   ]
  },
  {
   "cell_type": "code",
   "execution_count": 4,
   "metadata": {},
   "outputs": [],
   "source": [
    "inimg = inimg.reshape((3,416,416)).transpose(1,2,0) # Y,X,CH\n",
    "inimg = inimg * 1024.0\n",
    "inimg = inimg.astype(np.int32)"
   ]
  },
  {
   "cell_type": "markdown",
   "metadata": {},
   "source": [
    "Setup DMA buffer"
   ]
  },
  {
   "cell_type": "code",
   "execution_count": 5,
   "metadata": {},
   "outputs": [],
   "source": [
    "import pynq.lib.dma\n",
    "\n",
    "dma = overlay.axi_dma_0"
   ]
  },
  {
   "cell_type": "code",
   "execution_count": 6,
   "metadata": {},
   "outputs": [],
   "source": [
    "from pynq import Xlnk\n",
    "\n",
    "inimg_size = 416*11*3\n",
    "outfmap_size = 102*64+1\n",
    "\n",
    "xlnk = Xlnk()\n",
    "\n",
    "send_buf   = xlnk.cma_array(shape=(inimg_size),dtype=np.int32)\n",
    "recv_buf = xlnk.cma_array(shape=(outfmap_size),dtype=np.int32)"
   ]
  },
  {
   "cell_type": "code",
   "execution_count": 7,
   "metadata": {},
   "outputs": [],
   "source": [
    "inimg_buf   = np.zeros((11,416,3)).astype(np.int32)\n",
    "outfmap_buf = np.zeros((102,64,102)).astype(np.int32)"
   ]
  },
  {
   "cell_type": "markdown",
   "metadata": {},
   "source": [
    "### Perform Convolutional Operation (...but too slow)"
   ]
  },
  {
   "cell_type": "code",
   "execution_count": 9,
   "metadata": {},
   "outputs": [
    {
     "name": "stdout",
     "output_type": "stream",
     "text": [
      "CPU times: user 22.5 s, sys: 6.85 ms, total: 22.5 s\n",
      "Wall time: 22.5 s\n"
     ]
    }
   ],
   "source": [
    "%%time\n",
    "for line in range(102):\n",
    "    # load input image\n",
    "    for i in range(11):\n",
    "        inimg_buf[i] = inimg[i+line*4]\n",
    "    \n",
    "    tmp = inimg_buf.copy().transpose((2,0,1)).reshape(-1,) # CH,Y,X\n",
    "    send_buf[0:inimg_size] = tmp[0:inimg_size]\n",
    "\n",
    "    # activate DMA\n",
    "    registers.CTRL.AP_START = 1\n",
    "\n",
    "    # DMA access\n",
    "    dma.sendchannel.transfer(send_buf)\n",
    "    dma.recvchannel.transfer(recv_buf)\n",
    "\n",
    "    # wait DMA\n",
    "    dma.sendchannel.wait()\n",
    "    dma.recvchannel.wait()\n",
    "    \n",
    "    # store output buffer\n",
    "    tmp2 = recv_buf[0:outfmap_size - 1]\n",
    "    tmp2 = tmp2.reshape((64,102)) # CH, X\n",
    "    outfmap_buf[line] = tmp2"
   ]
  },
  {
   "cell_type": "markdown",
   "metadata": {},
   "source": [
    "### Verification with C++ testbench"
   ]
  },
  {
   "cell_type": "code",
   "execution_count": 10,
   "metadata": {},
   "outputs": [],
   "source": [
    "outfmap_buf = outfmap_buf.transpose((1,0,2)) / 1024.0 # Y,CH,X -> CH,Y,X"
   ]
  },
  {
   "cell_type": "code",
   "execution_count": 11,
   "metadata": {},
   "outputs": [],
   "source": [
    "bench_outfmap = np.loadtxt('/home/xilinx/data/testbench_output.txt')"
   ]
  },
  {
   "cell_type": "code",
   "execution_count": 12,
   "metadata": {},
   "outputs": [
    {
     "name": "stdout",
     "output_type": "stream",
     "text": [
      "max error 0.010464375\n",
      "TEST_PASS\n"
     ]
    }
   ],
   "source": [
    "error = np.abs(bench_outfmap - outfmap_buf.reshape(-1,))\n",
    "max_error = np.max(error)\n",
    "\n",
    "print('max error',max_error)\n",
    "\n",
    "if max_error < 0.1:\n",
    "    print('TEST_PASS')\n",
    "else:\n",
    "    print('TEST_FAILURE')"
   ]
  },
  {
   "cell_type": "markdown",
   "metadata": {},
   "source": [
    "### Appendix\n",
    "Inference on ARM processor"
   ]
  },
  {
   "cell_type": "code",
   "execution_count": 13,
   "metadata": {},
   "outputs": [],
   "source": [
    "import torch"
   ]
  },
  {
   "cell_type": "code",
   "execution_count": 21,
   "metadata": {},
   "outputs": [],
   "source": [
    "x = torch.randn(1,3,416,416)\n",
    "\n",
    "conv = torch.nn.Conv2d(in_channels=3, out_channels=64, kernel_size=11,stride=4,bias=False)"
   ]
  },
  {
   "cell_type": "code",
   "execution_count": 22,
   "metadata": {},
   "outputs": [
    {
     "name": "stdout",
     "output_type": "stream",
     "text": [
      "CPU times: user 259 ms, sys: 7.96 ms, total: 267 ms\n",
      "Wall time: 93.2 ms\n"
     ]
    }
   ],
   "source": [
    "%%time\n",
    "y = conv(x)"
   ]
  },
  {
   "cell_type": "code",
   "execution_count": null,
   "metadata": {},
   "outputs": [],
   "source": []
  }
 ],
 "metadata": {
  "kernelspec": {
   "display_name": "Python 3",
   "language": "python",
   "name": "python3"
  },
  "language_info": {
   "codemirror_mode": {
    "name": "ipython",
    "version": 3
   },
   "file_extension": ".py",
   "mimetype": "text/x-python",
   "name": "python",
   "nbconvert_exporter": "python",
   "pygments_lexer": "ipython3",
   "version": "3.6.5"
  }
 },
 "nbformat": 4,
 "nbformat_minor": 2
}
