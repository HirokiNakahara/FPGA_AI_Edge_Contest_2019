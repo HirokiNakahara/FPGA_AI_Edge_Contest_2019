{
 "cells": [
  {
   "cell_type": "markdown",
   "metadata": {},
   "source": [
    "## Convolutional Operation Demo<br>PYNQ on Ultra96v2 board  \n",
    "\n",
    "H. Nakahara (Tokyo Tech.) 19th/Mar./2020  \n",
    "Copyright all rights reserved."
   ]
  },
  {
   "cell_type": "markdown",
   "metadata": {},
   "source": [
    "### Setup\n",
    "load bitstream file"
   ]
  },
  {
   "cell_type": "code",
   "execution_count": 40,
   "metadata": {},
   "outputs": [],
   "source": [
    "from pynq import Overlay\n",
    "import pynq\n",
    "\n",
    "overlay = Overlay('/home/xilinx/pynq/overlays/base/conv_l0_2.bit')\n",
    "#dir(overlay)"
   ]
  },
  {
   "cell_type": "code",
   "execution_count": 41,
   "metadata": {},
   "outputs": [],
   "source": [
    "registers = overlay.kernel_0.register_map"
   ]
  },
  {
   "cell_type": "markdown",
   "metadata": {},
   "source": [
    "load testbench file"
   ]
  },
  {
   "cell_type": "code",
   "execution_count": 42,
   "metadata": {},
   "outputs": [],
   "source": [
    "import numpy as np\n",
    "\n",
    "inimg = np.loadtxt('/home/xilinx/data/testbench_input.txt')"
   ]
  },
  {
   "cell_type": "code",
   "execution_count": 43,
   "metadata": {},
   "outputs": [],
   "source": [
    "inimg = inimg.reshape((3,416,416)).transpose(1,2,0) # Y,X,CH\n",
    "inimg = inimg * 1024.0\n",
    "inimg = inimg.astype(np.int32)"
   ]
  },
  {
   "cell_type": "markdown",
   "metadata": {},
   "source": [
    "Setup DMA buffer"
   ]
  },
  {
   "cell_type": "code",
   "execution_count": 44,
   "metadata": {},
   "outputs": [],
   "source": [
    "import pynq.lib.dma\n",
    "\n",
    "dma = overlay.axi_dma_0"
   ]
  },
  {
   "cell_type": "code",
   "execution_count": 45,
   "metadata": {},
   "outputs": [],
   "source": [
    "from pynq import Xlnk\n",
    "\n",
    "inimg_size = 416*11*3\n",
    "outfmap_size = 102*64+1\n",
    "\n",
    "xlnk = Xlnk()\n",
    "\n",
    "send_buf   = xlnk.cma_array(shape=(inimg_size),dtype=np.int32)\n",
    "recv_buf = xlnk.cma_array(shape=(outfmap_size),dtype=np.int32)"
   ]
  },
  {
   "cell_type": "code",
   "execution_count": 46,
   "metadata": {},
   "outputs": [],
   "source": [
    "inimg_buf   = np.zeros((11,416,3)).astype(np.int32)\n",
    "outfmap_buf = np.zeros((102,64,102)).astype(np.int32)"
   ]
  },
  {
   "cell_type": "markdown",
   "metadata": {},
   "source": [
    "### Perform Convolutional Operation (...but too slow)"
   ]
  },
  {
   "cell_type": "code",
   "execution_count": null,
   "metadata": {},
   "outputs": [],
   "source": [
    "%%time # performance counter\n",
    "for line in range(102):\n",
    "    # load input image\n",
    "    for i in range(11):\n",
    "        inimg_buf[i] = inimg[i+line*4]\n",
    "    \n",
    "    tmp = inimg_buf.copy().transpose((2,0,1)).reshape(-1,) # CH,Y,X\n",
    "    send_buf[0:inimg_size] = tmp[0:inimg_size]\n",
    "\n",
    "    # activate DMA\n",
    "    registers.CTRL.AP_START = 1\n",
    "\n",
    "    # DMA access\n",
    "    dma.sendchannel.transfer(send_buf)\n",
    "    dma.recvchannel.transfer(recv_buf)\n",
    "\n",
    "    # wait DMA\n",
    "    dma.sendchannel.wait()\n",
    "    dma.recvchannel.wait()\n",
    "    \n",
    "    # store output buffer\n",
    "    tmp2 = recv_buf[0:outfmap_size - 1]\n",
    "    tmp2 = tmp2.reshape((64,102)) # CH, X\n",
    "    outfmap_buf[line] = tmp2"
   ]
  },
  {
   "cell_type": "markdown",
   "metadata": {},
   "source": [
    "### Verification with C++ testbench"
   ]
  },
  {
   "cell_type": "code",
   "execution_count": 34,
   "metadata": {},
   "outputs": [],
   "source": [
    "outfmap_buf = outfmap_buf.transpose((1,0,2)) / 1024.0 # Y,CH,X -> CH,Y,X"
   ]
  },
  {
   "cell_type": "code",
   "execution_count": 36,
   "metadata": {},
   "outputs": [],
   "source": [
    "bench_outfmap = np.loadtxt('/home/xilinx/data/testbench_output.txt')"
   ]
  },
  {
   "cell_type": "code",
   "execution_count": 39,
   "metadata": {},
   "outputs": [
    {
     "name": "stdout",
     "output_type": "stream",
     "text": [
      "max error 0.010464375\n",
      "TEST_PASS\n"
     ]
    }
   ],
   "source": [
    "error = np.abs(bench_outfmap - outfmap_buf.reshape(-1,))\n",
    "max_error = np.max(error)\n",
    "\n",
    "print('max error',max_error)\n",
    "\n",
    "if max_error < 0.1:\n",
    "    print('TEST_PASS')\n",
    "else:\n",
    "    print('TEST_FAILURE')"
   ]
  }
 ],
 "metadata": {
  "kernelspec": {
   "display_name": "Python 3",
   "language": "python",
   "name": "python3"
  },
  "language_info": {
   "codemirror_mode": {
    "name": "ipython",
    "version": 3
   },
   "file_extension": ".py",
   "mimetype": "text/x-python",
   "name": "python",
   "nbconvert_exporter": "python",
   "pygments_lexer": "ipython3",
   "version": "3.6.5"
  }
 },
 "nbformat": 4,
 "nbformat_minor": 2
}
